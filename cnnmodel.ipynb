{
  "cells": [
    {
      "cell_type": "markdown",
      "metadata": {
        "id": "view-in-github",
        "colab_type": "text"
      },
      "source": [
        "<a href=\"https://colab.research.google.com/github/Saroj12Dangol/Android-camera-and-gallery/blob/main/cnnmodel.ipynb\" target=\"_parent\"><img src=\"https://colab.research.google.com/assets/colab-badge.svg\" alt=\"Open In Colab\"/></a>"
      ]
    },
    {
      "cell_type": "code",
      "execution_count": null,
      "metadata": {
        "id": "bHp22h5Bugo9"
      },
      "outputs": [],
      "source": [
        "import cv2\n",
        "import os\n",
        "import tensorflow as tf\n",
        "from tensorflow.keras.layers import Flatten, Dense, Dropout, Activation, Conv2D, MaxPool2D, BatchNormalization\n",
        "from tensorflow.keras.models import Sequential\n",
        "import numpy as np\n",
        "import matplotlib.pyplot as plt"
      ]
    },
    {
      "cell_type": "code",
      "execution_count": null,
      "metadata": {
        "id": "Dd8A_KirVt5r"
      },
      "outputs": [],
      "source": [
        "my_callbacks = [\n",
        "    tf.keras.callbacks.EarlyStopping(patience=7,restore_best_weights=True),\n",
        "    tf.keras.callbacks.ModelCheckpoint(\n",
        "                                  '/content/drive/MyDrive/model_save/model.h5',\n",
        "                                  monitor=\"val_loss\",\n",
        "                                  verbose=1,\n",
        "                                  save_best_only=True,\n",
        "                                  save_weights_only=False,\n",
        "                                  mode=\"auto\",\n",
        "                                  save_freq=\"epoch\",\n",
        "                                  options=None\n",
        "                               ),\n",
        "    tf.keras.callbacks.TensorBoard(log_dir='/content/drive/MyDrive/model_save/logs'),\n",
        "]"
      ]
    },
    {
      "cell_type": "code",
      "execution_count": null,
      "metadata": {
        "colab": {
          "base_uri": "https://localhost:8080/"
        },
        "id": "Pu_LZJybVt79",
        "outputId": "c3b8aa88-8e0a-4c48-9535-e8b32cd39d1a"
      },
      "outputs": [
        {
          "name": "stdout",
          "output_type": "stream",
          "text": [
            "Found 37289 files belonging to 10 classes.\n",
            "Found 9934 files belonging to 10 classes.\n",
            "Found 2504 files belonging to 10 classes.\n"
          ]
        }
      ],
      "source": [
        "train_path = '/content/drive/MyDrive/splited2/train'\n",
        "validation_path = '/content/drive/MyDrive/splited2/val'\n",
        "test_path = '/content/drive/MyDrive/splited2/test'\n",
        "batch_size = 16\n",
        "height = 256\n",
        "width = 256\n",
        "\n",
        "training = tf.keras.preprocessing.image_dataset_from_directory(\n",
        "    train_path,\n",
        "    seed=42,\n",
        "    image_size=(height, width),\n",
        "    batch_size=batch_size\n",
        ")\n",
        "\n",
        "validation = tf.keras.preprocessing.image_dataset_from_directory(\n",
        "    validation_path,\n",
        "    seed=42,\n",
        "    image_size=(height, width),\n",
        "    batch_size=batch_size\n",
        ")\n",
        "test = tf.keras.preprocessing.image_dataset_from_directory(\n",
        "    test_path,\n",
        "    seed=42,\n",
        "    image_size=(height, width),\n",
        "    batch_size=batch_size\n",
        ")"
      ]
    },
    {
      "cell_type": "code",
      "execution_count": null,
      "metadata": {
        "colab": {
          "background_save": true,
          "base_uri": "https://localhost:8080/"
        },
        "id": "zV6MNvPRVt-c",
        "outputId": "e0cd7300-2348-480f-fc87-c0cf44d3d45c"
      },
      "outputs": [
        {
          "name": "stdout",
          "output_type": "stream",
          "text": [
            "Epoch 1/100\n",
            "2330/2331 [============================>.] - ETA: 0s - loss: 1.1405 - accuracy: 0.6303"
          ]
        }
      ],
      "source": [
        "#create cnn model\n",
        "\n",
        "model = Sequential()\n",
        "\n",
        "kernel = (3,3)\n",
        "pool = (2,2)\n",
        "\n",
        "model.add(Conv2D(32, kernel, input_shape = (256,256,3), kernel_initializer=tf.keras.initializers.he_uniform)),\n",
        "model.add(BatchNormalization()),\n",
        "model.add(Activation('relu')),\n",
        "model.add(MaxPool2D(pool)),\n",
        "\n",
        "model.add(Conv2D(32, kernel, kernel_initializer=tf.keras.initializers.he_uniform)),\n",
        "model.add(BatchNormalization()),\n",
        "model.add(Activation('relu')),\n",
        "model.add(MaxPool2D(pool)),\n",
        "\n",
        "model.add(Conv2D(64, kernel, kernel_initializer=tf.keras.initializers.he_uniform)),\n",
        "model.add(BatchNormalization()),\n",
        "model.add(Activation('relu')),\n",
        "model.add(MaxPool2D(pool)),\n",
        "\n",
        "model.add(Conv2D(64, kernel, kernel_initializer=tf.keras.initializers.he_uniform)),\n",
        "model.add(BatchNormalization()),\n",
        "model.add(Activation('relu')),\n",
        "model.add(MaxPool2D(pool)),\n",
        "\n",
        "model.add(Conv2D(128, kernel, kernel_initializer=tf.keras.initializers.he_uniform)),\n",
        "model.add(BatchNormalization()),\n",
        "model.add(Activation('relu')),\n",
        "model.add(MaxPool2D(pool)),\n",
        "\n",
        "\n",
        "model.add(Flatten()),\n",
        "\n",
        "\n",
        "model.add(Dense(1024,kernel_initializer=tf.keras.initializers.he_uniform)),\n",
        "model.add(BatchNormalization()),\n",
        "model.add(Activation('relu')),\n",
        "model.add(Dropout(0.7)),\n",
        "\n",
        "model.add(Dense(10)),\n",
        "model.add(Activation('softmax'))\n",
        "\n",
        "#compile\n",
        "model.compile(loss = 'sparse_categorical_crossentropy',\n",
        "             optimizer = tf.keras.optimizers.Adam(learning_rate = 0.001),\n",
        "             metrics = [\"accuracy\"])\n",
        "\n",
        "#fit the model\n",
        "detection = model.fit(training,validation_data=validation,epochs=100, callbacks=my_callbacks)"
      ]
    },
    {
      "cell_type": "code",
      "execution_count": null,
      "metadata": {
        "id": "AvKAVS7tht7A"
      },
      "outputs": [],
      "source": [
        "from tensorflow.keras.models import load_model"
      ]
    },
    {
      "cell_type": "code",
      "execution_count": null,
      "metadata": {
        "id": "PTE2JobWWLN4"
      },
      "outputs": [],
      "source": [
        "model = load_model('/content/drive/MyDrive/model_save/model.h5')"
      ]
    },
    {
      "cell_type": "code",
      "execution_count": null,
      "metadata": {
        "colab": {
          "base_uri": "https://localhost:8080/"
        },
        "id": "YAhEcvTFWLP_",
        "outputId": "4090ffc6-6a70-4317-ec19-a9a4a16d1ac3"
      },
      "outputs": [
        {
          "name": "stdout",
          "output_type": "stream",
          "text": [
            "157/157 [==============================] - 373s 2s/step - loss: 0.1977 - accuracy: 0.9349\n"
          ]
        },
        {
          "data": {
            "text/plain": [
              "[0.19771330058574677, 0.934904158115387]"
            ]
          },
          "execution_count": 9,
          "metadata": {},
          "output_type": "execute_result"
        }
      ],
      "source": [
        "model.evaluate(test)"
      ]
    },
    {
      "cell_type": "code",
      "execution_count": null,
      "metadata": {
        "id": "_aYsx97BWLSv"
      },
      "outputs": [],
      "source": []
    },
    {
      "cell_type": "code",
      "execution_count": null,
      "metadata": {
        "id": "KFbZG1J3VuBM"
      },
      "outputs": [],
      "source": []
    },
    {
      "cell_type": "code",
      "execution_count": null,
      "metadata": {
        "id": "SaXHuvb_77C5"
      },
      "outputs": [],
      "source": [
        "X_1 = pickle.load(open(\"/content/drive/MyDrive/XandY/X_1.pickle\", \"rb\"))"
      ]
    },
    {
      "cell_type": "code",
      "execution_count": null,
      "metadata": {
        "id": "SYSzCZhKBWVB"
      },
      "outputs": [],
      "source": [
        "X_2 = pickle.load(open(\"/content/drive/MyDrive/XandY/X_2.pickle\", \"rb\"))"
      ]
    },
    {
      "cell_type": "code",
      "execution_count": null,
      "metadata": {
        "id": "yuNWVPBQBWrQ"
      },
      "outputs": [],
      "source": [
        "X_3 = pickle.load(open(\"/content/drive/MyDrive/XandY/X_3.pickle\", \"rb\"))"
      ]
    },
    {
      "cell_type": "code",
      "execution_count": null,
      "metadata": {
        "id": "MfauaK6DBW8f"
      },
      "outputs": [],
      "source": [
        "X_4 = pickle.load(open(\"/content/drive/MyDrive/XandY/X_4.pickle\", \"rb\"))"
      ]
    },
    {
      "cell_type": "code",
      "execution_count": null,
      "metadata": {
        "id": "TiMrzY5lBXI8"
      },
      "outputs": [],
      "source": [
        "X_5 = pickle.load(open(\"/content/drive/MyDrive/XandY/X_5.pickle\", \"rb\"))"
      ]
    },
    {
      "cell_type": "code",
      "execution_count": null,
      "metadata": {
        "id": "nQTIfIRdBXTF"
      },
      "outputs": [],
      "source": [
        "X_6 = pickle.load(open(\"/content/drive/MyDrive/XandY/X_6.pickle\", \"rb\"))"
      ]
    },
    {
      "cell_type": "code",
      "execution_count": null,
      "metadata": {
        "id": "2bdeYnsABXcl"
      },
      "outputs": [],
      "source": [
        "X_7 = pickle.load(open(\"/content/drive/MyDrive/XandY/X_7.pickle\", \"rb\"))"
      ]
    },
    {
      "cell_type": "code",
      "execution_count": null,
      "metadata": {
        "id": "JPhU5l9NBXlN"
      },
      "outputs": [],
      "source": [
        "X_8 = pickle.load(open(\"/content/drive/MyDrive/XandY/X_8.pickle\", \"rb\"))"
      ]
    },
    {
      "cell_type": "code",
      "execution_count": null,
      "metadata": {
        "id": "yuxGBYtEBXtk"
      },
      "outputs": [],
      "source": [
        "X_9 = pickle.load(open(\"/content/drive/MyDrive/XandY/X_9.pickle\", \"rb\"))"
      ]
    },
    {
      "cell_type": "code",
      "execution_count": null,
      "metadata": {
        "id": "ptYZTHSWBX2O"
      },
      "outputs": [],
      "source": [
        "X_10 = pickle.load(open(\"/content/drive/MyDrive/XandY/X_10.pickle\", \"rb\"))"
      ]
    },
    {
      "cell_type": "code",
      "execution_count": null,
      "metadata": {
        "id": "lZxaLsaI8ezg"
      },
      "outputs": [],
      "source": [
        "#y_valid = pickle.load(open(\"/content/drive/MyDrive/XandY/y_valid.pickle\", \"rb\"))"
      ]
    },
    {
      "cell_type": "code",
      "execution_count": null,
      "metadata": {
        "id": "vMpUgt7wmwZK"
      },
      "outputs": [],
      "source": [
        "for i in range(len(X_2)):\n",
        "  X_1.append(X_2[i])\n",
        "\n",
        "for i in range(len(X_3)):\n",
        "  X_1.append(X_3[i])\n",
        "\n",
        "for i in range(len(X_4)):\n",
        "  X_1.append(X_4[i])\n",
        "\n",
        "for i in range(len(X_5)):\n",
        "  X_1.append(X_5[i])\n",
        "\n",
        "for i in range(len(X_6)):\n",
        "  X_1.append(X_6[i])\n",
        "\n",
        "for i in range(len(X_7)):\n",
        "  X_1.append(X_7[i])\n",
        "\n",
        "for i in range(len(X_8)):\n",
        "  X_1.append(X_8[i])\n",
        "\n",
        "for i in range(len(X_9)):\n",
        "  X_1.append(X_9[i])\n",
        "\n",
        "for i in range(len(X_10)):\n",
        "  X_1.append(X_10[i])\n"
      ]
    },
    {
      "cell_type": "code",
      "execution_count": null,
      "metadata": {
        "colab": {
          "base_uri": "https://localhost:8080/"
        },
        "id": "U5HXgl96oeuw",
        "outputId": "88dfcc97-8c19-4aca-c816-3a160b4316b2"
      },
      "outputs": [
        {
          "data": {
            "text/plain": [
              "37462"
            ]
          },
          "execution_count": 14,
          "metadata": {},
          "output_type": "execute_result"
        }
      ],
      "source": [
        "len(X_1)"
      ]
    },
    {
      "cell_type": "code",
      "execution_count": null,
      "metadata": {
        "id": "3oeNmj7Xmwb9"
      },
      "outputs": [],
      "source": [
        "X_train = []\n",
        "y_train = []\n",
        "for i in range(len(X_1)):\n",
        "  features, label = X_1[i]\n",
        "  X_train.append(features)\n",
        "  y_train.append(label)"
      ]
    },
    {
      "cell_type": "code",
      "execution_count": null,
      "metadata": {
        "colab": {
          "base_uri": "https://localhost:8080/"
        },
        "id": "PMF5lIQP8srC",
        "outputId": "fc13a00b-7e3f-472c-ddde-12dcfb1e7986"
      },
      "outputs": [
        {
          "data": {
            "text/plain": [
              "37462"
            ]
          },
          "execution_count": 16,
          "metadata": {},
          "output_type": "execute_result"
        }
      ],
      "source": [
        "len(X_train)"
      ]
    },
    {
      "cell_type": "code",
      "execution_count": null,
      "metadata": {
        "colab": {
          "base_uri": "https://localhost:8080/"
        },
        "id": "Sr6U2KMOeff9",
        "outputId": "968b9068-ef0e-44f3-a241-c5131b9f21bf"
      },
      "outputs": [
        {
          "data": {
            "text/plain": [
              "37462"
            ]
          },
          "execution_count": 17,
          "metadata": {},
          "output_type": "execute_result"
        }
      ],
      "source": [
        "len(y_train)"
      ]
    },
    {
      "cell_type": "code",
      "execution_count": null,
      "metadata": {
        "id": "znrZnINcfD98"
      },
      "outputs": [],
      "source": [
        "pickle_out = open('/content/drive/MyDrive/XandY/X_train', 'wb')\n",
        "pickle.dump(X_train, pickle_out)\n",
        "pickle_out.close()"
      ]
    },
    {
      "cell_type": "code",
      "execution_count": null,
      "metadata": {
        "id": "j0M6FtfhfJGp"
      },
      "outputs": [],
      "source": [
        "X_1_3 = np.concatenate((X_5, X_6))"
      ]
    },
    {
      "cell_type": "code",
      "execution_count": null,
      "metadata": {
        "id": "1H4kOd0RfJJv"
      },
      "outputs": [],
      "source": [
        "X_1_4 = np.concatenate((X_7, X_8))"
      ]
    },
    {
      "cell_type": "code",
      "execution_count": null,
      "metadata": {
        "id": "orqJ0e02fJLm"
      },
      "outputs": [],
      "source": [
        "X_1_5 = np.concatenate((X_9, X_10))"
      ]
    },
    {
      "cell_type": "code",
      "execution_count": null,
      "metadata": {
        "id": "1hFYxzw3fJNv"
      },
      "outputs": [],
      "source": [
        "x = list([['image1', 'label1'],['image2','label2'], ['image3', 'label3'],['image4','label4']])\n",
        "y = list([['image5', 'label5'], ['image6', 'label6'], ['image7', 'label7'],['image8','label8']])"
      ]
    },
    {
      "cell_type": "code",
      "execution_count": null,
      "metadata": {
        "colab": {
          "base_uri": "https://localhost:8080/"
        },
        "id": "wuN7a8WfscEP",
        "outputId": "8db6bb21-8cea-44cc-a9f6-13ec96a07c43"
      },
      "outputs": [
        {
          "data": {
            "text/plain": [
              "[['image1', 'label1'],\n",
              " ['image2', 'label2'],\n",
              " ['image3', 'label3'],\n",
              " ['image4', 'label4']]"
            ]
          },
          "execution_count": 189,
          "metadata": {},
          "output_type": "execute_result"
        }
      ],
      "source": [
        "x"
      ]
    },
    {
      "cell_type": "code",
      "execution_count": null,
      "metadata": {
        "colab": {
          "base_uri": "https://localhost:8080/"
        },
        "id": "Q9NUN4gGfJQY",
        "outputId": "4267edd4-0f1a-465b-ab95-1ff969b51d33"
      },
      "outputs": [
        {
          "data": {
            "text/plain": [
              "['image5', 'label5']"
            ]
          },
          "execution_count": 190,
          "metadata": {},
          "output_type": "execute_result"
        }
      ],
      "source": [
        "y[0]"
      ]
    },
    {
      "cell_type": "code",
      "execution_count": null,
      "metadata": {
        "id": "kZCwZup6fJS2"
      },
      "outputs": [],
      "source": [
        "x.append(y[0])\n",
        "x.append(y[1])\n",
        "x.append(y[2])\n",
        "x.append(y[3])"
      ]
    },
    {
      "cell_type": "code",
      "execution_count": null,
      "metadata": {
        "colab": {
          "base_uri": "https://localhost:8080/"
        },
        "id": "zoIBhd-LeMQ9",
        "outputId": "7ec5a20f-0405-4258-e910-a5b67c9fab86"
      },
      "outputs": [
        {
          "data": {
            "text/plain": [
              "[['image1', 'label1'],\n",
              " ['image2', 'label2'],\n",
              " ['image3', 'label3'],\n",
              " ['image4', 'label4'],\n",
              " ['image5', 'label5'],\n",
              " ['image6', 'label6'],\n",
              " ['image7', 'label7'],\n",
              " ['image8', 'label8']]"
            ]
          },
          "execution_count": 192,
          "metadata": {},
          "output_type": "execute_result"
        }
      ],
      "source": [
        "x"
      ]
    },
    {
      "cell_type": "code",
      "execution_count": null,
      "metadata": {
        "colab": {
          "base_uri": "https://localhost:8080/"
        },
        "id": "C-nJEysc8-og",
        "outputId": "ac885f28-9b82-46b5-ceed-119d2f235824"
      },
      "outputs": [
        {
          "data": {
            "text/plain": [
              "8"
            ]
          },
          "execution_count": 193,
          "metadata": {},
          "output_type": "execute_result"
        }
      ],
      "source": [
        "len(x)"
      ]
    },
    {
      "cell_type": "code",
      "execution_count": null,
      "metadata": {
        "colab": {
          "base_uri": "https://localhost:8080/"
        },
        "id": "kTJwuGLgtl_l",
        "outputId": "775114a2-385c-40a1-f885-0f1238de7009"
      },
      "outputs": [
        {
          "data": {
            "text/plain": [
              "array([['image1', 'label1'],\n",
              "       ['image2', 'label2'],\n",
              "       ['image3', 'label3'],\n",
              "       ['image4', 'label4'],\n",
              "       ['image5', 'label5'],\n",
              "       ['image6', 'label6'],\n",
              "       ['image7', 'label7'],\n",
              "       ['image8', 'label8']], dtype='<U6')"
            ]
          },
          "execution_count": 182,
          "metadata": {},
          "output_type": "execute_result"
        }
      ],
      "source": [
        "x = np.array(x)\n",
        "x"
      ]
    },
    {
      "cell_type": "code",
      "execution_count": null,
      "metadata": {
        "colab": {
          "base_uri": "https://localhost:8080/"
        },
        "id": "cweozWM0ttaI",
        "outputId": "d1cb2d66-e433-4059-f10a-65cfea9cb6c1"
      },
      "outputs": [
        {
          "data": {
            "text/plain": [
              "(8, 2)"
            ]
          },
          "execution_count": 183,
          "metadata": {},
          "output_type": "execute_result"
        }
      ],
      "source": [
        "x.shape"
      ]
    },
    {
      "cell_type": "code",
      "execution_count": null,
      "metadata": {
        "colab": {
          "base_uri": "https://localhost:8080/"
        },
        "id": "HA85YSBJttcD",
        "outputId": "b20918f1-c378-4dbe-9d03-228377b6a298"
      },
      "outputs": [
        {
          "data": {
            "text/plain": [
              "array([[[['image1'],\n",
              "         ['label1']],\n",
              "\n",
              "        [['image2'],\n",
              "         ['label2']],\n",
              "\n",
              "        [['image3'],\n",
              "         ['label3']],\n",
              "\n",
              "        [['image4'],\n",
              "         ['label4']],\n",
              "\n",
              "        [['image5'],\n",
              "         ['label5']],\n",
              "\n",
              "        [['image6'],\n",
              "         ['label6']],\n",
              "\n",
              "        [['image7'],\n",
              "         ['label7']],\n",
              "\n",
              "        [['image8'],\n",
              "         ['label8']]]], dtype='<U6')"
            ]
          },
          "execution_count": 184,
          "metadata": {},
          "output_type": "execute_result"
        }
      ],
      "source": [
        "x.reshape(-1, 8,2,1)"
      ]
    },
    {
      "cell_type": "code",
      "execution_count": null,
      "metadata": {
        "id": "1exrfoSGttep"
      },
      "outputs": [],
      "source": [
        "import random"
      ]
    },
    {
      "cell_type": "code",
      "execution_count": null,
      "metadata": {
        "colab": {
          "base_uri": "https://localhost:8080/"
        },
        "id": "YBB1gHDatthA",
        "outputId": "37bda12f-9a73-40d9-de9a-3b87f1d2a64c"
      },
      "outputs": [
        {
          "data": {
            "text/plain": [
              "[['image5', 'label5'],\n",
              " ['image3', 'label3'],\n",
              " ['image4', 'label4'],\n",
              " ['image2', 'label2'],\n",
              " ['image1', 'label1'],\n",
              " ['image6', 'label6'],\n",
              " ['image7', 'label7'],\n",
              " ['image8', 'label8']]"
            ]
          },
          "execution_count": 195,
          "metadata": {},
          "output_type": "execute_result"
        }
      ],
      "source": [
        "\n",
        "random.shuffle(x)\n",
        "x"
      ]
    },
    {
      "cell_type": "code",
      "execution_count": null,
      "metadata": {
        "colab": {
          "base_uri": "https://localhost:8080/"
        },
        "id": "R00m9jqKttjn",
        "outputId": "324814b6-bf7b-4c63-8eaa-dea1f565aeab"
      },
      "outputs": [
        {
          "data": {
            "text/plain": [
              "array([['image5', 'label5'],\n",
              "       ['image3', 'label3'],\n",
              "       ['image4', 'label4'],\n",
              "       ['image2', 'label2'],\n",
              "       ['image1', 'label1'],\n",
              "       ['image6', 'label6'],\n",
              "       ['image7', 'label7'],\n",
              "       ['image8', 'label8']], dtype='<U6')"
            ]
          },
          "execution_count": 196,
          "metadata": {},
          "output_type": "execute_result"
        }
      ],
      "source": [
        "np.array(x)"
      ]
    },
    {
      "cell_type": "code",
      "execution_count": null,
      "metadata": {
        "colab": {
          "base_uri": "https://localhost:8080/",
          "height": 235
        },
        "id": "83u4eHUZ9JTt",
        "outputId": "83d9c817-823c-453b-a33c-fa93d8fb7a02"
      },
      "outputs": [
        {
          "ename": "NameError",
          "evalue": "ignored",
          "output_type": "error",
          "traceback": [
            "\u001b[0;31m---------------------------------------------------------------------------\u001b[0m",
            "\u001b[0;31mNameError\u001b[0m                                 Traceback (most recent call last)",
            "\u001b[0;32m<ipython-input-154-7bfca1091910>\u001b[0m in \u001b[0;36m<module>\u001b[0;34m()\u001b[0m\n\u001b[0;32m----> 1\u001b[0;31m \u001b[0mmodel\u001b[0m \u001b[0;34m=\u001b[0m \u001b[0mSequential\u001b[0m\u001b[0;34m(\u001b[0m\u001b[0;34m)\u001b[0m\u001b[0;34m\u001b[0m\u001b[0;34m\u001b[0m\u001b[0m\n\u001b[0m\u001b[1;32m      2\u001b[0m \u001b[0mmodel\u001b[0m\u001b[0;34m.\u001b[0m\u001b[0madd\u001b[0m\u001b[0;34m(\u001b[0m\u001b[0mConv2D\u001b[0m\u001b[0;34m(\u001b[0m\u001b[0;36m64\u001b[0m\u001b[0;34m,\u001b[0m \u001b[0;34m(\u001b[0m\u001b[0;36m3\u001b[0m\u001b[0;34m,\u001b[0m\u001b[0;36m3\u001b[0m\u001b[0;34m)\u001b[0m\u001b[0;34m,\u001b[0m \u001b[0mkernel_initializer\u001b[0m\u001b[0;34m=\u001b[0m\u001b[0mtf\u001b[0m\u001b[0;34m.\u001b[0m\u001b[0mkeras\u001b[0m\u001b[0;34m.\u001b[0m\u001b[0minitializers\u001b[0m\u001b[0;34m.\u001b[0m\u001b[0mhe_uniform\u001b[0m\u001b[0;34m,\u001b[0m \u001b[0minput_shape\u001b[0m \u001b[0;34m=\u001b[0m \u001b[0mX\u001b[0m\u001b[0;34m.\u001b[0m\u001b[0mshape\u001b[0m\u001b[0;34m[\u001b[0m\u001b[0;36m1\u001b[0m\u001b[0;34m:\u001b[0m\u001b[0;34m]\u001b[0m\u001b[0;34m)\u001b[0m\u001b[0;34m)\u001b[0m\u001b[0;34m,\u001b[0m\u001b[0;34m\u001b[0m\u001b[0;34m\u001b[0m\u001b[0m\n\u001b[1;32m      3\u001b[0m \u001b[0mmodel\u001b[0m\u001b[0;34m.\u001b[0m\u001b[0madd\u001b[0m\u001b[0;34m(\u001b[0m\u001b[0mBatchNormalization\u001b[0m\u001b[0;34m(\u001b[0m\u001b[0;34m)\u001b[0m\u001b[0;34m)\u001b[0m\u001b[0;34m,\u001b[0m\u001b[0;34m\u001b[0m\u001b[0;34m\u001b[0m\u001b[0m\n\u001b[1;32m      4\u001b[0m \u001b[0mmodel\u001b[0m\u001b[0;34m.\u001b[0m\u001b[0madd\u001b[0m\u001b[0;34m(\u001b[0m\u001b[0mActivation\u001b[0m\u001b[0;34m(\u001b[0m\u001b[0;34m'relu'\u001b[0m\u001b[0;34m)\u001b[0m\u001b[0;34m)\u001b[0m\u001b[0;34m,\u001b[0m\u001b[0;34m\u001b[0m\u001b[0;34m\u001b[0m\u001b[0m\n\u001b[1;32m      5\u001b[0m \u001b[0mmodel\u001b[0m\u001b[0;34m.\u001b[0m\u001b[0madd\u001b[0m\u001b[0;34m(\u001b[0m\u001b[0mMaxPool2D\u001b[0m\u001b[0;34m(\u001b[0m\u001b[0;36m2\u001b[0m\u001b[0;34m,\u001b[0m\u001b[0;36m2\u001b[0m\u001b[0;34m)\u001b[0m\u001b[0;34m)\u001b[0m\u001b[0;34m,\u001b[0m\u001b[0;34m\u001b[0m\u001b[0;34m\u001b[0m\u001b[0m\n",
            "\u001b[0;31mNameError\u001b[0m: name 'Sequential' is not defined"
          ]
        }
      ],
      "source": [
        "model = Sequential()\n",
        "model.add(Conv2D(64, (3,3), kernel_initializer=tf.keras.initializers.he_uniform, input_shape = X.shape[1:])),\n",
        "model.add(BatchNormalization()),\n",
        "model.add(Activation('relu')),\n",
        "model.add(MaxPool2D(2,2)),\n",
        "\n",
        "model.add(Conv2D(128, (3,3), kernel_initializer=tf.keras.initializers.he_uniform)),\n",
        "model.add(BatchNormalization()),\n",
        "model.add(Activation('relu')),\n",
        "model.add(MaxPool2D(2,2)),\n",
        "\n",
        "model.add(Flatten()),\n",
        "model.add(Dense(128, kernel_initializer=tf.keras.initializers.he_uniform))\n",
        "model.add(Activation('relu')),\n",
        "\n",
        "model.add(Dense(10)),\n",
        "model.add(Activation('softmax'))\n"
      ]
    },
    {
      "cell_type": "code",
      "execution_count": null,
      "metadata": {
        "id": "WGVTd3s_trpX"
      },
      "outputs": [],
      "source": []
    },
    {
      "cell_type": "code",
      "execution_count": null,
      "metadata": {
        "id": "QMztNWoF-ZDz"
      },
      "outputs": [],
      "source": [
        "model.compile(loss = 'sparse_categorical_crossentropy', \n",
        "              optimizer = 'adam',\n",
        "              metrics = ['accuracy'])"
      ]
    },
    {
      "cell_type": "code",
      "execution_count": null,
      "metadata": {
        "id": "bImI9Rxo-z11"
      },
      "outputs": [],
      "source": [
        "model_fit = model.fit(X, y, batch_size=1, epochs=5, validation_split=0.1)"
      ]
    },
    {
      "cell_type": "code",
      "execution_count": null,
      "metadata": {
        "colab": {
          "base_uri": "https://localhost:8080/"
        },
        "id": "wvNSwhJZ_B03",
        "outputId": "f2149028-e3d1-41d4-d3cd-07cf185bb669"
      },
      "outputs": [
        {
          "name": "stdout",
          "output_type": "stream",
          "text": [
            "Architecture:        x86_64\n",
            "CPU op-mode(s):      32-bit, 64-bit\n",
            "Byte Order:          Little Endian\n",
            "CPU(s):              2\n",
            "On-line CPU(s) list: 0,1\n",
            "Thread(s) per core:  2\n",
            "Core(s) per socket:  1\n",
            "Socket(s):           1\n",
            "NUMA node(s):        1\n",
            "Vendor ID:           GenuineIntel\n",
            "CPU family:          6\n",
            "Model:               79\n",
            "Model name:          Intel(R) Xeon(R) CPU @ 2.20GHz\n",
            "Stepping:            0\n",
            "CPU MHz:             2199.998\n",
            "BogoMIPS:            4399.99\n",
            "Hypervisor vendor:   KVM\n",
            "Virtualization type: full\n",
            "L1d cache:           32K\n",
            "L1i cache:           32K\n",
            "L2 cache:            256K\n",
            "L3 cache:            56320K\n",
            "NUMA node0 CPU(s):   0,1\n",
            "Flags:               fpu vme de pse tsc msr pae mce cx8 apic sep mtrr pge mca cmov pat pse36 clflush mmx fxsr sse sse2 ss ht syscall nx pdpe1gb rdtscp lm constant_tsc rep_good nopl xtopology nonstop_tsc cpuid tsc_known_freq pni pclmulqdq ssse3 fma cx16 pcid sse4_1 sse4_2 x2apic movbe popcnt aes xsave avx f16c rdrand hypervisor lahf_lm abm 3dnowprefetch invpcid_single ssbd ibrs ibpb stibp fsgsbase tsc_adjust bmi1 hle avx2 smep bmi2 erms invpcid rtm rdseed adx smap xsaveopt arat md_clear arch_capabilities\n"
          ]
        }
      ],
      "source": [
        "! lscpu"
      ]
    },
    {
      "cell_type": "code",
      "execution_count": null,
      "metadata": {
        "id": "CxjSJ1VVqiQg"
      },
      "outputs": [],
      "source": [
        "i = [1,2,3,4,5,5,6,7,7,6666665,656,6,56,65,65,65,56,65,65,65,65,65,65,65,65,65,65,65,65,65,65,65]\n",
        "while(True):\n",
        "  i.append(i)"
      ]
    },
    {
      "cell_type": "code",
      "execution_count": null,
      "metadata": {
        "id": "xJErOnJF1ag2"
      },
      "outputs": [],
      "source": [
        "a = [[[[[[]]]]]]\n",
        "while(1):\n",
        "    a.append(1)"
      ]
    },
    {
      "cell_type": "code",
      "execution_count": null,
      "metadata": {
        "id": "aprwM7slunTf"
      },
      "outputs": [],
      "source": []
    }
  ],
  "metadata": {
    "accelerator": "GPU",
    "colab": {
      "provenance": [],
      "mount_file_id": "14J2KD21mdD3Z27cTPGhjCRTAKsSs1Q6q",
      "authorship_tag": "ABX9TyMakdRFDuQoiFBQdTUVVFvi",
      "include_colab_link": true
    },
    "kernelspec": {
      "display_name": "Python 3",
      "name": "python3"
    },
    "language_info": {
      "name": "python"
    }
  },
  "nbformat": 4,
  "nbformat_minor": 0
}